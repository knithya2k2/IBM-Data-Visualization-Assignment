{
 "cells": [
  {
   "cell_type": "markdown",
   "metadata": {
    "collapsed": true
   },
   "source": [
    "# Data Visualization with Python\n",
    "\n",
    "## Course Final Assignment\n",
    "\n",
    "---\n",
    "\n",
    "### K.Nithya\n",
    "### May 2023\n",
    "\n",
    "---"
   ]
  },
  {
   "cell_type": "markdown",
   "metadata": {},
   "source": [
    "### Introduction\n",
    "\n",
    "This is the Final Assignment for the course Data Visualization with Python, as part of the IBM Data Science Professional Certification on Coursera, taught by Alex Aklson (Ph.D., Data Scientist / IBM Developer Skills Network).\n",
    "\n",
    "As tool to perform the assigned tasks I have chosen a Jupyter Notebook with Python 3.6 kernel on IBM Watson Studio.\n",
    "\n",
    "The assignment is composed of four tasks to be performed based on two provided datasets, the first dataset contains the results of a survey  with 2233 respondents on their interest in Data Science areas, the second dataset contains the records of crimes in San Francisco (CA) in 2016.\n",
    "\n",
    "In short words the tasks are the following:\n",
    "1. Download the survey dataset from the provided URL and prepare the dataframe as given model.\n",
    "1. Reproduce a bar chart based on the survey dataset with the percentage of interest for each Data Science area.\n",
    "1. Download the San Francisco crimes dataset from the provided URL and prepare a dataframe grouped by district as given model.\n",
    "1. Show a Choropleth map of the San Francisco crimes.\n",
    "\n",
    "---\n",
    "\n"
   ]
  },
  {
   "cell_type": "markdown",
   "metadata": {},
   "source": [
    "---\n",
    "### Task 1. Create Survey dataframe based on CSV file from the provided path (URL and file name)."
   ]
  },
  {
   "cell_type": "markdown",
   "metadata": {},
   "source": [
    "Import required libraries"
   ]
  },
  {
   "cell_type": "code",
   "execution_count": 1,
   "metadata": {},
   "outputs": [],
   "source": [
    "import pandas as pd\n",
    "import numpy as np\n",
    "import matplotlib as mpl\n",
    "import matplotlib.pyplot as plt"
   ]
  },
  {
   "cell_type": "markdown",
   "metadata": {},
   "source": [
    "Load the CSV file into Survey dataframe"
   ]
  },
  {
   "cell_type": "code",
   "execution_count": 2,
   "metadata": {},
   "outputs": [
    {
     "data": {
      "text/html": [
       "<div>\n",
       "<style scoped>\n",
       "    .dataframe tbody tr th:only-of-type {\n",
       "        vertical-align: middle;\n",
       "    }\n",
       "\n",
       "    .dataframe tbody tr th {\n",
       "        vertical-align: top;\n",
       "    }\n",
       "\n",
       "    .dataframe thead th {\n",
       "        text-align: right;\n",
       "    }\n",
       "</style>\n",
       "<table border=\"1\" class=\"dataframe\">\n",
       "  <thead>\n",
       "    <tr style=\"text-align: right;\">\n",
       "      <th></th>\n",
       "      <th>Very interested</th>\n",
       "      <th>Somewhat interested</th>\n",
       "      <th>Not interested</th>\n",
       "    </tr>\n",
       "  </thead>\n",
       "  <tbody>\n",
       "    <tr>\n",
       "      <th>Big Data (Spark / Hadoop)</th>\n",
       "      <td>1332</td>\n",
       "      <td>729</td>\n",
       "      <td>127</td>\n",
       "    </tr>\n",
       "    <tr>\n",
       "      <th>Data Analysis / Statistics</th>\n",
       "      <td>1688</td>\n",
       "      <td>444</td>\n",
       "      <td>60</td>\n",
       "    </tr>\n",
       "    <tr>\n",
       "      <th>Data Journalism</th>\n",
       "      <td>429</td>\n",
       "      <td>1081</td>\n",
       "      <td>610</td>\n",
       "    </tr>\n",
       "    <tr>\n",
       "      <th>Data Visualization</th>\n",
       "      <td>1340</td>\n",
       "      <td>734</td>\n",
       "      <td>102</td>\n",
       "    </tr>\n",
       "    <tr>\n",
       "      <th>Deep Learning</th>\n",
       "      <td>1263</td>\n",
       "      <td>770</td>\n",
       "      <td>136</td>\n",
       "    </tr>\n",
       "    <tr>\n",
       "      <th>Machine Learning</th>\n",
       "      <td>1629</td>\n",
       "      <td>477</td>\n",
       "      <td>74</td>\n",
       "    </tr>\n",
       "  </tbody>\n",
       "</table>\n",
       "</div>"
      ],
      "text/plain": [
       "                            Very interested  Somewhat interested  \\\n",
       "Big Data (Spark / Hadoop)              1332                  729   \n",
       "Data Analysis / Statistics             1688                  444   \n",
       "Data Journalism                         429                 1081   \n",
       "Data Visualization                     1340                  734   \n",
       "Deep Learning                          1263                  770   \n",
       "Machine Learning                       1629                  477   \n",
       "\n",
       "                            Not interested  \n",
       "Big Data (Spark / Hadoop)              127  \n",
       "Data Analysis / Statistics              60  \n",
       "Data Journalism                        610  \n",
       "Data Visualization                     102  \n",
       "Deep Learning                          136  \n",
       "Machine Learning                        74  "
      ]
     },
     "execution_count": 2,
     "metadata": {},
     "output_type": "execute_result"
    }
   ],
   "source": [
    "# create a variable with the provided url and file name\n",
    "file_source = 'https://cocl.us/datascience_survey_data'\n",
    "\n",
    "# create the dataframe and define the first column as index\n",
    "df_survey = pd.read_csv(file_source, index_col=[0])\n",
    "\n",
    "# show the data frame\n",
    "df_survey"
   ]
  },
  {
   "cell_type": "markdown",
   "metadata": {},
   "source": [
    "---\n",
    "### Task 2.  Create a percentage bar chart based on Survey dataframe."
   ]
  },
  {
   "cell_type": "markdown",
   "metadata": {},
   "source": [
    "Calculate the percentage for each value and sort the dataframe"
   ]
  },
  {
   "cell_type": "code",
   "execution_count": 3,
   "metadata": {},
   "outputs": [
    {
     "data": {
      "text/html": [
       "<div>\n",
       "<style scoped>\n",
       "    .dataframe tbody tr th:only-of-type {\n",
       "        vertical-align: middle;\n",
       "    }\n",
       "\n",
       "    .dataframe tbody tr th {\n",
       "        vertical-align: top;\n",
       "    }\n",
       "\n",
       "    .dataframe thead th {\n",
       "        text-align: right;\n",
       "    }\n",
       "</style>\n",
       "<table border=\"1\" class=\"dataframe\">\n",
       "  <thead>\n",
       "    <tr style=\"text-align: right;\">\n",
       "      <th></th>\n",
       "      <th>Very interested</th>\n",
       "      <th>Somewhat interested</th>\n",
       "      <th>Not interested</th>\n",
       "    </tr>\n",
       "  </thead>\n",
       "  <tbody>\n",
       "    <tr>\n",
       "      <th>Data Analysis / Statistics</th>\n",
       "      <td>0.7559</td>\n",
       "      <td>0.1988</td>\n",
       "      <td>0.0269</td>\n",
       "    </tr>\n",
       "    <tr>\n",
       "      <th>Machine Learning</th>\n",
       "      <td>0.7295</td>\n",
       "      <td>0.2136</td>\n",
       "      <td>0.0331</td>\n",
       "    </tr>\n",
       "    <tr>\n",
       "      <th>Data Visualization</th>\n",
       "      <td>0.6001</td>\n",
       "      <td>0.3287</td>\n",
       "      <td>0.0457</td>\n",
       "    </tr>\n",
       "    <tr>\n",
       "      <th>Big Data (Spark / Hadoop)</th>\n",
       "      <td>0.5965</td>\n",
       "      <td>0.3265</td>\n",
       "      <td>0.0569</td>\n",
       "    </tr>\n",
       "    <tr>\n",
       "      <th>Deep Learning</th>\n",
       "      <td>0.5656</td>\n",
       "      <td>0.3448</td>\n",
       "      <td>0.0609</td>\n",
       "    </tr>\n",
       "    <tr>\n",
       "      <th>Data Journalism</th>\n",
       "      <td>0.1921</td>\n",
       "      <td>0.4841</td>\n",
       "      <td>0.2732</td>\n",
       "    </tr>\n",
       "  </tbody>\n",
       "</table>\n",
       "</div>"
      ],
      "text/plain": [
       "                            Very interested  Somewhat interested  \\\n",
       "Data Analysis / Statistics           0.7559               0.1988   \n",
       "Machine Learning                     0.7295               0.2136   \n",
       "Data Visualization                   0.6001               0.3287   \n",
       "Big Data (Spark / Hadoop)            0.5965               0.3265   \n",
       "Deep Learning                        0.5656               0.3448   \n",
       "Data Journalism                      0.1921               0.4841   \n",
       "\n",
       "                            Not interested  \n",
       "Data Analysis / Statistics          0.0269  \n",
       "Machine Learning                    0.0331  \n",
       "Data Visualization                  0.0457  \n",
       "Big Data (Spark / Hadoop)           0.0569  \n",
       "Deep Learning                       0.0609  \n",
       "Data Journalism                     0.2732  "
      ]
     },
     "execution_count": 3,
     "metadata": {},
     "output_type": "execute_result"
    }
   ],
   "source": [
    "# Create a dataframe in percentage values (2233 respondents)\n",
    "df_percent = round(df_survey/2233, 4)\n",
    "\n",
    "# Sort the dataframe from 'Very interested' to 'Not interested'\n",
    "df_percent.sort_values(by=list(df_percent.columns), ascending=False, inplace=True)\n",
    "\n",
    "df_percent"
   ]
  },
  {
   "cell_type": "markdown",
   "metadata": {},
   "source": [
    "Create the percentage bar chart using Matplotlib Artitst layer"
   ]
  },
  {
   "cell_type": "code",
   "execution_count": 4,
   "metadata": {},
   "outputs": [
    {
     "data": {
      "image/png": "[encoded data removed]",
      "text/plain": [
       "<Figure size 1440x576 with 1 Axes>"
      ]
     },
     "metadata": {
      "needs_background": "light"
     },
     "output_type": "display_data"
    }
   ],
   "source": [
    "# create a Axes variable for the bar chart\n",
    "bax = df_percent.plot(kind='bar', figsize=(20,8), width=0.8, color=['#5cb85c','#5bc0de','#d9534f'])\n",
    "\n",
    "# Set the font size to 14\n",
    "mpl.rc('font', size=14)       # general font size\n",
    "mpl.rc('xtick', labelsize=14) # x-axis labels\n",
    "\n",
    "# define title\n",
    "bax.set_title('Percentage of Respondents\\' Interest in Data Science Areas', {'fontsize':16})\n",
    "\n",
    "# set legend font size\n",
    "bax.legend(fontsize=14)\n",
    "\n",
    "# Hide the y-axis labels\n",
    "bax.axes.get_yaxis().set_visible(False)\n",
    "\n",
    "# Remove the borders\n",
    "bax.spines[\"top\"].set_visible(False)\n",
    "bax.spines[\"left\"].set_visible(False)\n",
    "bax.spines[\"right\"].set_visible(False)\n",
    "\n",
    "# annotate the figures over the bars\n",
    "for patch in bax.patches[0:]:\n",
    "    h = patch.get_height()\n",
    "    x = patch.get_x() + patch.get_width()/2.\n",
    "    bax.annotate('{:.2%}'.format(patch.get_height()), xy=(x,h), xytext=(0,4), textcoords=\"offset points\", ha=\"center\", va=\"bottom\")"
   ]
  },
  {
   "cell_type": "markdown",
   "metadata": {},
   "source": [
    "---\n",
    "### Task 3. Create San Francisco Crime dataframe based on CSV file from the provided path (URL and file name)."
   ]
  },
  {
   "cell_type": "markdown",
   "metadata": {},
   "source": [
    "Load the CSV file into San Francisco Crime dataframe"
   ]
  },
  {
   "cell_type": "code",
   "execution_count": 5,
   "metadata": {},
   "outputs": [
    {
     "name": "stdout",
     "output_type": "stream",
     "text": [
      "Dataframe shape: (150500, 13)\n"
     ]
    },
    {
     "data": {
      "text/html": [
       "<div>\n",
       "<style scoped>\n",
       "    .dataframe tbody tr th:only-of-type {\n",
       "        vertical-align: middle;\n",
       "    }\n",
       "\n",
       "    .dataframe tbody tr th {\n",
       "        vertical-align: top;\n",
       "    }\n",
       "\n",
       "    .dataframe thead th {\n",
       "        text-align: right;\n",
       "    }\n",
       "</style>\n",
       "<table border=\"1\" class=\"dataframe\">\n",
       "  <thead>\n",
       "    <tr style=\"text-align: right;\">\n",
       "      <th></th>\n",
       "      <th>IncidntNum</th>\n",
       "      <th>Category</th>\n",
       "      <th>Descript</th>\n",
       "      <th>DayOfWeek</th>\n",
       "      <th>Date</th>\n",
       "      <th>Time</th>\n",
       "      <th>PdDistrict</th>\n",
       "      <th>Resolution</th>\n",
       "      <th>Address</th>\n",
       "      <th>X</th>\n",
       "      <th>Y</th>\n",
       "      <th>Location</th>\n",
       "      <th>PdId</th>\n",
       "    </tr>\n",
       "  </thead>\n",
       "  <tbody>\n",
       "    <tr>\n",
       "      <th>0</th>\n",
       "      <td>120058272</td>\n",
       "      <td>WEAPON LAWS</td>\n",
       "      <td>POSS OF PROHIBITED WEAPON</td>\n",
       "      <td>Friday</td>\n",
       "      <td>01/29/2016 12:00:00 AM</td>\n",
       "      <td>11:00</td>\n",
       "      <td>SOUTHERN</td>\n",
       "      <td>ARREST, BOOKED</td>\n",
       "      <td>800 Block of BRYANT ST</td>\n",
       "      <td>-122.403405</td>\n",
       "      <td>37.775421</td>\n",
       "      <td>(37.775420706711, -122.403404791479)</td>\n",
       "      <td>12005827212120</td>\n",
       "    </tr>\n",
       "    <tr>\n",
       "      <th>1</th>\n",
       "      <td>120058272</td>\n",
       "      <td>WEAPON LAWS</td>\n",
       "      <td>FIREARM, LOADED, IN VEHICLE, POSSESSION OR USE</td>\n",
       "      <td>Friday</td>\n",
       "      <td>01/29/2016 12:00:00 AM</td>\n",
       "      <td>11:00</td>\n",
       "      <td>SOUTHERN</td>\n",
       "      <td>ARREST, BOOKED</td>\n",
       "      <td>800 Block of BRYANT ST</td>\n",
       "      <td>-122.403405</td>\n",
       "      <td>37.775421</td>\n",
       "      <td>(37.775420706711, -122.403404791479)</td>\n",
       "      <td>12005827212168</td>\n",
       "    </tr>\n",
       "    <tr>\n",
       "      <th>2</th>\n",
       "      <td>141059263</td>\n",
       "      <td>WARRANTS</td>\n",
       "      <td>WARRANT ARREST</td>\n",
       "      <td>Monday</td>\n",
       "      <td>04/25/2016 12:00:00 AM</td>\n",
       "      <td>14:59</td>\n",
       "      <td>BAYVIEW</td>\n",
       "      <td>ARREST, BOOKED</td>\n",
       "      <td>KEITH ST / SHAFTER AV</td>\n",
       "      <td>-122.388856</td>\n",
       "      <td>37.729981</td>\n",
       "      <td>(37.7299809672996, -122.388856204292)</td>\n",
       "      <td>14105926363010</td>\n",
       "    </tr>\n",
       "    <tr>\n",
       "      <th>3</th>\n",
       "      <td>160013662</td>\n",
       "      <td>NON-CRIMINAL</td>\n",
       "      <td>LOST PROPERTY</td>\n",
       "      <td>Tuesday</td>\n",
       "      <td>01/05/2016 12:00:00 AM</td>\n",
       "      <td>23:50</td>\n",
       "      <td>TENDERLOIN</td>\n",
       "      <td>NONE</td>\n",
       "      <td>JONES ST / OFARRELL ST</td>\n",
       "      <td>-122.412971</td>\n",
       "      <td>37.785788</td>\n",
       "      <td>(37.7857883766888, -122.412970537591)</td>\n",
       "      <td>16001366271000</td>\n",
       "    </tr>\n",
       "    <tr>\n",
       "      <th>4</th>\n",
       "      <td>160002740</td>\n",
       "      <td>NON-CRIMINAL</td>\n",
       "      <td>LOST PROPERTY</td>\n",
       "      <td>Friday</td>\n",
       "      <td>01/01/2016 12:00:00 AM</td>\n",
       "      <td>00:30</td>\n",
       "      <td>MISSION</td>\n",
       "      <td>NONE</td>\n",
       "      <td>16TH ST / MISSION ST</td>\n",
       "      <td>-122.419672</td>\n",
       "      <td>37.765050</td>\n",
       "      <td>(37.7650501214668, -122.419671780296)</td>\n",
       "      <td>16000274071000</td>\n",
       "    </tr>\n",
       "  </tbody>\n",
       "</table>\n",
       "</div>"
      ],
      "text/plain": [
       "   IncidntNum      Category                                        Descript  \\\n",
       "0   120058272   WEAPON LAWS                       POSS OF PROHIBITED WEAPON   \n",
       "1   120058272   WEAPON LAWS  FIREARM, LOADED, IN VEHICLE, POSSESSION OR USE   \n",
       "2   141059263      WARRANTS                                  WARRANT ARREST   \n",
       "3   160013662  NON-CRIMINAL                                   LOST PROPERTY   \n",
       "4   160002740  NON-CRIMINAL                                   LOST PROPERTY   \n",
       "\n",
       "  DayOfWeek                    Date   Time  PdDistrict      Resolution  \\\n",
       "0    Friday  01/29/2016 12:00:00 AM  11:00    SOUTHERN  ARREST, BOOKED   \n",
       "1    Friday  01/29/2016 12:00:00 AM  11:00    SOUTHERN  ARREST, BOOKED   \n",
       "2    Monday  04/25/2016 12:00:00 AM  14:59     BAYVIEW  ARREST, BOOKED   \n",
       "3   Tuesday  01/05/2016 12:00:00 AM  23:50  TENDERLOIN            NONE   \n",
       "4    Friday  01/01/2016 12:00:00 AM  00:30     MISSION            NONE   \n",
       "\n",
       "                  Address           X          Y  \\\n",
       "0  800 Block of BRYANT ST -122.403405  37.775421   \n",
       "1  800 Block of BRYANT ST -122.403405  37.775421   \n",
       "2   KEITH ST / SHAFTER AV -122.388856  37.729981   \n",
       "3  JONES ST / OFARRELL ST -122.412971  37.785788   \n",
       "4    16TH ST / MISSION ST -122.419672  37.765050   \n",
       "\n",
       "                                Location            PdId  \n",
       "0   (37.775420706711, -122.403404791479)  12005827212120  \n",
       "1   (37.775420706711, -122.403404791479)  12005827212168  \n",
       "2  (37.7299809672996, -122.388856204292)  14105926363010  \n",
       "3  (37.7857883766888, -122.412970537591)  16001366271000  \n",
       "4  (37.7650501214668, -122.419671780296)  16000274071000  "
      ]
     },
     "execution_count": 5,
     "metadata": {},
     "output_type": "execute_result"
    }
   ],
   "source": [
    "# create a variable with the provided url and file name\n",
    "file_source = 'https://cocl.us/sanfran_crime_dataset'\n",
    "\n",
    "# create the dataframe\n",
    "df_sfc = pd.read_csv(file_source)\n",
    "\n",
    "# show the data frame\n",
    "print('Dataframe shape:', df_sfc.shape)\n",
    "df_sfc.head()"
   ]
  },
  {
   "cell_type": "markdown",
   "metadata": {},
   "source": [
    "Group the data by PdDistrict counting the incidents"
   ]
  },
  {
   "cell_type": "code",
   "execution_count": 6,
   "metadata": {},
   "outputs": [
    {
     "data": {
      "text/html": [
       "<div>\n",
       "<style scoped>\n",
       "    .dataframe tbody tr th:only-of-type {\n",
       "        vertical-align: middle;\n",
       "    }\n",
       "\n",
       "    .dataframe tbody tr th {\n",
       "        vertical-align: top;\n",
       "    }\n",
       "\n",
       "    .dataframe thead th {\n",
       "        text-align: right;\n",
       "    }\n",
       "</style>\n",
       "<table border=\"1\" class=\"dataframe\">\n",
       "  <thead>\n",
       "    <tr style=\"text-align: right;\">\n",
       "      <th></th>\n",
       "      <th>Neighborhood</th>\n",
       "      <th>Count</th>\n",
       "    </tr>\n",
       "  </thead>\n",
       "  <tbody>\n",
       "    <tr>\n",
       "      <th>0</th>\n",
       "      <td>BAYVIEW</td>\n",
       "      <td>14303</td>\n",
       "    </tr>\n",
       "    <tr>\n",
       "      <th>1</th>\n",
       "      <td>CENTRAL</td>\n",
       "      <td>17666</td>\n",
       "    </tr>\n",
       "    <tr>\n",
       "      <th>2</th>\n",
       "      <td>INGLESIDE</td>\n",
       "      <td>11594</td>\n",
       "    </tr>\n",
       "    <tr>\n",
       "      <th>3</th>\n",
       "      <td>MISSION</td>\n",
       "      <td>19503</td>\n",
       "    </tr>\n",
       "    <tr>\n",
       "      <th>4</th>\n",
       "      <td>NORTHERN</td>\n",
       "      <td>20100</td>\n",
       "    </tr>\n",
       "    <tr>\n",
       "      <th>5</th>\n",
       "      <td>PARK</td>\n",
       "      <td>8699</td>\n",
       "    </tr>\n",
       "    <tr>\n",
       "      <th>6</th>\n",
       "      <td>RICHMOND</td>\n",
       "      <td>8922</td>\n",
       "    </tr>\n",
       "    <tr>\n",
       "      <th>7</th>\n",
       "      <td>SOUTHERN</td>\n",
       "      <td>28445</td>\n",
       "    </tr>\n",
       "    <tr>\n",
       "      <th>8</th>\n",
       "      <td>TARAVAL</td>\n",
       "      <td>11325</td>\n",
       "    </tr>\n",
       "    <tr>\n",
       "      <th>9</th>\n",
       "      <td>TENDERLOIN</td>\n",
       "      <td>9942</td>\n",
       "    </tr>\n",
       "  </tbody>\n",
       "</table>\n",
       "</div>"
      ],
      "text/plain": [
       "  Neighborhood  Count\n",
       "0      BAYVIEW  14303\n",
       "1      CENTRAL  17666\n",
       "2    INGLESIDE  11594\n",
       "3      MISSION  19503\n",
       "4     NORTHERN  20100\n",
       "5         PARK   8699\n",
       "6     RICHMOND   8922\n",
       "7     SOUTHERN  28445\n",
       "8      TARAVAL  11325\n",
       "9   TENDERLOIN   9942"
      ]
     },
     "execution_count": 6,
     "metadata": {},
     "output_type": "execute_result"
    }
   ],
   "source": [
    "# group the data by PdDistrict and count the incidents\n",
    "df_sfcgr = df_sfc[['PdDistrict','IncidntNum']].groupby(['PdDistrict']).count().reset_index()\n",
    "\n",
    "# Change the column names\n",
    "df_sfcgr.rename(columns={'PdDistrict':'Neighborhood', 'IncidntNum':'Count'}, inplace=True)\n",
    "\n",
    "# Show the dataframe\n",
    "df_sfcgr"
   ]
  },
  {
   "cell_type": "markdown",
   "metadata": {},
   "source": [
    "---\n",
    "### Task 4. Create a Choropleth map to visualize the San Franciscos Crime data"
   ]
  },
  {
   "cell_type": "markdown",
   "metadata": {},
   "source": [
    "Install ***folium*** library"
   ]
  },
  {
   "cell_type": "code",
   "execution_count": null,
   "metadata": {},
   "outputs": [],
   "source": [
    "!conda install -c conda-forge folium=0.5.0 --yes\n",
    "import folium"
   ]
  },
  {
   "cell_type": "markdown",
   "metadata": {},
   "source": [
    "Load the GeoJSON file from San Francisco neighborhood into a variable (provided path)"
   ]
  },
  {
   "cell_type": "code",
   "execution_count": null,
   "metadata": {},
   "outputs": [],
   "source": [
    "# Download the GeoJSON file from provided path\n",
    "!wget --quiet https://cocl.us/sanfran_geojson -O geo_sanfrancisco.json\n",
    "\n",
    "# Load the GeoJson file into a variable\n",
    "geo_sf = r'geo_sanfrancisco.json'\n",
    "\n",
    "print('GeoJSON data ready')"
   ]
  },
  {
   "cell_type": "markdown",
   "metadata": {},
   "source": [
    "Create the San Francisco Choropleth map"
   ]
  },
  {
   "cell_type": "code",
   "execution_count": null,
   "metadata": {
    "scrolled": true
   },
   "outputs": [],
   "source": [
    "# Set variables for San Francisco latitude and longitude\n",
    "ltd = 37.77\n",
    "lgd = -122.42\n",
    "\n",
    "# Create the San Francisco map\n",
    "sf_map = folium.Map(location=[ltd,lgd], zoom_start=12)\n",
    "\n",
    "# Set the Choropleth parameters\n",
    "sf_map.choropleth(geo_data=geo_sf,\n",
    "                  data=df_sfcgr,\n",
    "                  columns=['Neighborhood','Count'],\n",
    "                  key_on='feature.properties.DISTRICT',\n",
    "                  fill_color='YlOrRd',\n",
    "                  fill_opacity=0.7,\n",
    "                  line_opacity=0.2,\n",
    "                  legend_name='Crime Rate in San Francisco')\n",
    "\n",
    "# Show the map\n",
    "sf_map"
   ]
  },
  {
   "cell_type": "markdown",
   "metadata": {},
   "source": [
    "---"
   ]
  }
 ],
 "metadata": {
  "kernelspec": {
   "display_name": "Python 3 (ipykernel)",
   "language": "python",
   "name": "python3"
  },
  "language_info": {
   "codemirror_mode": {
    "name": "ipython",
    "version": 3
   },
   "file_extension": ".py",
   "mimetype": "text/x-python",
   "name": "python",
   "nbconvert_exporter": "python",
   "pygments_lexer": "ipython3",
   "version": "3.9.7"
  }
 },
 "nbformat": 4,
 "nbformat_minor": 1
}
